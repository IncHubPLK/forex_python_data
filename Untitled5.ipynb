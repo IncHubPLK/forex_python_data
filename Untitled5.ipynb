{
  "cells": [
    {
      "cell_type": "markdown",
      "metadata": {
        "id": "view-in-github",
        "colab_type": "text"
      },
      "source": [
        "<a href=\"https://colab.research.google.com/github/IncHubPLK/forex_python_data/blob/main/Untitled5.ipynb\" target=\"_parent\"><img src=\"https://colab.research.google.com/assets/colab-badge.svg\" alt=\"Open In Colab\"/></a>"
      ]
    },
    {
      "cell_type": "code",
      "execution_count": null,
      "metadata": {
        "colab": {
          "base_uri": "https://localhost:8080/"
        },
        "id": "rkbPD9p7hH5B",
        "outputId": "801de96c-9cad-46bd-d860-16472d5e0e1f"
      },
      "outputs": [
        {
          "name": "stdout",
          "output_type": "stream",
          "text": [
            "EUR/USD: 1.09\n"
          ]
        }
      ],
      "source": [
        "import requests\n",
        "from datetime import datetime, timedelta\n",
        "\n",
        "\n",
        "url = \"https://api.exchangerate-api.com/v4/latest/EUR\"\n",
        "try:\n",
        "    response = requests.get(url)\n",
        "    response.raise_for_status()\n",
        "    data = response.json()\n",
        "    eur_usd_rate = data[\"rates\"][\"USD\"]\n",
        "    print(\"EUR/USD:\", eur_usd_rate)\n",
        "except requests.exceptions.RequestException as e:\n",
        "    print(f\"An error occurred: {e}\")\n",
        "    print(\"Response:\", response.text)\n",
        "\n",
        "\n"
      ]
    },
    {
      "cell_type": "code",
      "execution_count": null,
      "metadata": {
        "colab": {
          "background_save": true
        },
        "id": "mzxcKl6bxuLj",
        "outputId": "92bbd703-c4d3-4034-e6ea-090b10131508"
      },
      "outputs": [
        {
          "name": "stdout",
          "output_type": "stream",
          "text": [
            "Data saved to exchange_rates.csv\n"
          ]
        }
      ],
      "source": [
        "import requests\n",
        "import csv\n",
        "from datetime import datetime, timedelta\n",
        "\n",
        "url = \"https://api.exchangerate-api.com/v4/latest/EUR\"\n",
        "try:\n",
        "    response = requests.get(url)\n",
        "    response.raise_for_status()\n",
        "    data = response.json()\n",
        "    eur_usd_rate = data[\"rates\"][\"USD\"]\n",
        "    eur_nzd_rate = data[\"rates\"][\"NZD\"]\n",
        "    eur_gbp_rate = data[\"rates\"][\"GBP\"]\n",
        "    eur_jpy_rate = data[\"rates\"][\"JPY\"]\n",
        "    eur_cad_rate = data[\"rates\"][\"CAD\"]\n",
        "\n",
        "    with open('exchange_rates.csv', mode='w', newline='') as file:\n",
        "        writer = csv.writer(file)\n",
        "        writer.writerow([\"Currency\", \"Rate\"])\n",
        "        writer.writerow([\"EUR/USD\", eur_usd_rate])\n",
        "        writer.writerow([\"EUR/NZD\", eur_nzd_rate])\n",
        "        writer.writerow([\"EUR/GBP\", eur_gbp_rate])\n",
        "        writer.writerow([\"EUR/JPY\", eur_jpy_rate])\n",
        "        writer.writerow([\"EUR/CAD\", eur_cad_rate])\n",
        "        print(\"Data saved to exchange_rates.csv\")\n",
        "\n",
        "except requests.exceptions.RequestException as e:\n",
        "    print(f\"An error occurred: {e}\")\n",
        "    print(\"Response:\", response.text)\n"
      ]
    },
    {
      "cell_type": "code",
      "source": [
        "import requests\n",
        "import csv\n",
        "from datetime import datetime, timedelta\n",
        "\n",
        "url = \"https://api.exchangerate-api.com/v4/latest/EUR\"\n",
        "try:\n",
        "    response = requests.get(url)\n",
        "    response.raise_for_status()\n",
        "    data = response.json()\n",
        "    eur_usd_rate = data[\"rates\"][\"USD\"]\n",
        "    eur_nzd_rate = data[\"rates\"][\"NZD\"]\n",
        "    eur_gbp_rate = data[\"rates\"][\"GBP\"]\n",
        "    eur_jpy_rate = data[\"rates\"][\"JPY\"]\n",
        "    eur_cad_rate = data[\"rates\"][\"CAD\"]\n",
        "\n",
        "    filename = f\"exchange_rates_{datetime.now().strftime('%Y-%m-%d')}.csv\"\n",
        "    with open(filename, mode='w', newline='') as file:\n",
        "        writer = csv.writer(file)\n",
        "        writer.writerow([\"Currency\", \"Rate\"])\n",
        "        writer.writerow([\"EUR/USD\", eur_usd_rate])\n",
        "        writer.writerow([\"EUR/NZD\", eur_nzd_rate])\n",
        "        writer.writerow([\"EUR/GBP\", eur_gbp_rate])\n",
        "        writer.writerow([\"EUR/JPY\", eur_jpy_rate])\n",
        "        writer.writerow([\"EUR/CAD\", eur_cad_rate])\n",
        "        print(f\"Data saved to {filename}\")\n",
        "\n",
        "except requests.exceptions.RequestException as e:\n",
        "    print(f\"An error occurred: {e}\")\n",
        "    print(\"Response:\", response.text)\n"
      ],
      "metadata": {
        "colab": {
          "base_uri": "https://localhost:8080/"
        },
        "id": "CQfGVP5n1Srb",
        "outputId": "9cc31a74-be03-43f2-8cb2-5caf3a9ab6c5"
      },
      "execution_count": 3,
      "outputs": [
        {
          "output_type": "stream",
          "name": "stdout",
          "text": [
            "Data saved to exchange_rates_2023-01-29.csv\n"
          ]
        }
      ]
    }
  ],
  "metadata": {
    "colab": {
      "provenance": [],
      "authorship_tag": "ABX9TyPJn6YbJb2llrYePemNnFZS",
      "include_colab_link": true
    },
    "kernelspec": {
      "display_name": "Python 3",
      "name": "python3"
    },
    "language_info": {
      "name": "python"
    }
  },
  "nbformat": 4,
  "nbformat_minor": 0
}